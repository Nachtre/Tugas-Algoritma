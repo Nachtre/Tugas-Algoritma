{
  "cells": [
    {
      "cell_type": "markdown",
      "metadata": {
        "id": "view-in-github",
        "colab_type": "text"
      },
      "source": [
        "<a href=\"https://colab.research.google.com/github/Nachtre/Tugas-Algoritma/blob/main/Tugas_Algoritma_dan_Pemrograman_Pekan_13.ipynb\" target=\"_parent\"><img src=\"https://colab.research.google.com/assets/colab-badge.svg\" alt=\"Open In Colab\"/></a>"
      ]
    },
    {
      "cell_type": "markdown",
      "source": [
        "**Nama:** Muhammad Rayhan Arman\n",
        "\n",
        "**NIM :** H051211017\n",
        "\n",
        "**Kelas :** Algoritma dan Pemrograman A"
      ],
      "metadata": {
        "id": "gKSq_DYgP_cD"
      }
    },
    {
      "cell_type": "markdown",
      "source": [
        "NOMOR 1\n",
        "\n",
        "Buatlah program untuk menghitung total pembelian N buah barang dengan harga dan jumlah tertentu"
      ],
      "metadata": {
        "id": "LsMd80DvmOtI"
      }
    },
    {
      "cell_type": "code",
      "execution_count": 60,
      "metadata": {
        "id": "bERFvu5BTjWp",
        "colab": {
          "base_uri": "https://localhost:8080/"
        },
        "outputId": "879a5bc5-0cd6-4ba0-b9ba-ac404d298e07"
      },
      "outputs": [
        {
          "output_type": "stream",
          "name": "stdout",
          "text": [
            "--------------------------------------------\n",
            "      Selamat datang di Brother Soup\n",
            "--------------------------------------------\n",
            "Kami menyediakan beberapa jenis makanan yang akan menggugah selera anda\n",
            "Berikut adalah berbagai menu yang kami tawarkan:\n",
            "-> Sop Saudara : Rp. 6000\n",
            "-> Nasi        : Rp. 3000\n",
            "-> Ikan Bakar  : Rp. 10000\n",
            "-> Air Putih   : Rp. 1000\n",
            "-> Es teh      : Rp. 3000\n",
            "-> Telur Rebus : Rp. 3000\n",
            "\n",
            "Ketik y jika ingin memesan dan t jika tidak ingin memesan\n",
            "\n",
            "Apakah anda ingin memesan Sop Saudara? : y\n",
            "Berapa porsi? : 3\n",
            "Harganya : Rp. 18000\n",
            "\n",
            "Apakah anda ingin memesan Nasi? : y\n",
            "Berapa porsi? : 5\n",
            "Harganya : Rp. 15000\n",
            "\n",
            "Apakah anda ingin memesan Ikan Bakar? : y\n",
            "Berapa porsi? : 2\n",
            "Harganya : Rp. 20000\n",
            "\n",
            "Apakah anda ingin memesan Aqua Botol? : y\n",
            "Berapa botol? : 2\n",
            "Harganya : Rp. 6000\n",
            "\n",
            "Apakah anda ingin memesan Es Teh? : y\n",
            "Berapa Es Teh? : 3\n",
            "Harganya : Rp. 9000\n",
            "\n",
            "Apakah anda ingin memesan telur rebus? : t\n",
            "\n",
            "Total pesanan anda : Rp. 68000\n",
            "Pesanan anda akan kami siapkan segera\n",
            "Silahkan lakukan transaksi via Ovo/Gopay\n"
          ]
        }
      ],
      "source": [
        "print(\"--------------------------------------------\\n      Selamat datang di Brother Soup\\n--------------------------------------------\")\n",
        "\n",
        "print(\"Kami menyediakan beberapa jenis makanan yang akan menggugah selera anda\")\n",
        "print(\"Berikut adalah berbagai menu yang kami tawarkan:\")\n",
        "print(\"-> Sop Saudara : Rp. 6000\")\n",
        "print(\"-> Nasi        : Rp. 3000\")\n",
        "print(\"-> Ikan Bakar  : Rp. 10000\")\n",
        "print(\"-> Air Putih   : Rp. 1000\")\n",
        "print(\"-> Es teh      : Rp. 3000\")\n",
        "print(\"-> Telur Rebus : Rp. 3000\")\n",
        "\n",
        "print(\"\\nKetik y jika ingin memesan dan t jika tidak ingin memesan\")\n",
        "sop=input(\"\\nApakah anda ingin memesan Sop Saudara? : \")\n",
        "if (sop==\"y\"):\n",
        "    s=int(input(\"Berapa porsi? : \"))\n",
        "    Hargas=6000*s\n",
        "    print(\"Harganya : Rp.\", Hargas)\n",
        "else :\n",
        "    (sop==\"t\")\n",
        "    Hargas=0\n",
        "    print (\"\\nAda pesanan lainnya?\")\n",
        "\n",
        "nasi=input(\"\\nApakah anda ingin memesan Nasi? : \")\n",
        "if (nasi==\"y\"):\n",
        "    n=int(input(\"Berapa porsi? : \"))\n",
        "    Hargan=3000*n\n",
        "    print(\"Harganya : Rp.\", Hargan)\n",
        "else :\n",
        "    (nasi==\"t\")\n",
        "    Hargan=0\n",
        "    print (\"\\nAda pesanan lainnya?\")\n",
        "\n",
        "Ikan=input(\"\\nApakah anda ingin memesan Ikan Bakar? : \")\n",
        "if (Ikan==\"y\"):\n",
        "    i=int(input(\"Berapa porsi? : \"))\n",
        "    Hargai=10000*i\n",
        "    print(\"Harganya : Rp.\", Hargai)\n",
        "else :\n",
        "    (Ikan==\"t\")\n",
        "    Hargai=0\n",
        "    print (\"\\nAda pesanan lainnya?\")\n",
        "\n",
        "Air=input(\"\\nApakah anda ingin memesan Aqua Botol? : \")\n",
        "if (Air==\"y\"):\n",
        "    a=int(input(\"Berapa botol? : \"))\n",
        "    Hargaa=3000*a\n",
        "    print(\"Harganya : Rp.\", Hargaa)\n",
        "else :\n",
        "    (Air==\"t\")\n",
        "    Hargaa=0\n",
        "    print (\"\\nAda pesanan lainnya?\")\n",
        "\n",
        "Es=input(\"\\nApakah anda ingin memesan Es Teh? : \")\n",
        "if (Es==\"y\"):\n",
        "    e=int(input(\"Berapa Es Teh? : \"))\n",
        "    Hargae=3000*e\n",
        "    print(\"Harganya : Rp.\", Hargae)\n",
        "else :\n",
        "    (Es==\"t\")\n",
        "    Hargae=0\n",
        "    print (\"\\nAda pesanan lainnya?\")\n",
        "\n",
        "Telur=input(\"\\nApakah anda ingin memesan telur rebus? : \")\n",
        "if (Telur==\"y\"):\n",
        "    t=int(input(\"Berapa porsi? : \"))\n",
        "    Hargat=3000*t\n",
        "    print(\"Harganya : Rp.\", Hargat)\n",
        "else :\n",
        "    (Telur==\"t\")\n",
        "    Hargat=0\n",
        "    \n",
        "Total_Harga=Hargas+Hargan+Hargai+Hargaa+Hargae+Hargat\n",
        "print (\"\\nTotal pesanan anda : Rp.\", Total_Harga)\n",
        "print(\"Pesanan anda akan kami siapkan segera\")\n",
        "print(\"Silahkan lakukan transaksi via Ovo/Gopay\")"
      ]
    },
    {
      "cell_type": "markdown",
      "source": [
        "**Nomor 2**\n",
        "\n",
        "Buatlah program untuk menghitung banyaknya bilangan genap ataupun ganjil dari N buah bilangan yang diinput secara acak"
      ],
      "metadata": {
        "id": "LvZXbHudrUns"
      }
    },
    {
      "cell_type": "code",
      "source": [
        "print(\"--------------------------------------------\\n      Menghitung angka ganjil genap\\n--------------------------------------------\")\n",
        "\n",
        "genap = 0\n",
        "ganjil = 0\n",
        "\n",
        "print (\"\\n*Note: Pisahkan setiap angka dengan menggunakan spasi\")\n",
        "angka = input(\"\\nMasukkan angka: \")\n",
        "angka = angka.split(\" \")\n",
        "print(angka)\n",
        "\n",
        "for i in angka:\n",
        "    if int(i)%2 == 0:\n",
        "      genap=genap+1\n",
        "    else:\n",
        "      ganjil=ganjil+1\n",
        "\n",
        "print(\"\\nJumlah bilangan ganjil adalah\", ganjil)\n",
        "print(\"Jumlah bilangan genap adalah\", genap)"
      ],
      "metadata": {
        "colab": {
          "base_uri": "https://localhost:8080/"
        },
        "id": "kQBbHv2Puw05",
        "outputId": "e7b5a504-e296-43be-c9bc-083b03851870"
      },
      "execution_count": 62,
      "outputs": [
        {
          "output_type": "stream",
          "name": "stdout",
          "text": [
            "--------------------------------------------\n",
            "      Menghitung angka ganjil genap\n",
            "--------------------------------------------\n",
            "\n",
            "*Note: Pisahkan setiap angka dengan menggunakan spasi\n",
            "\n",
            "Masukkan angka: 12 45 78 98 56 23\n",
            "['12', '45', '78', '98', '56', '23']\n",
            "\n",
            "Jumlah bilangan ganjil adalah 2\n",
            "Jumlah bilangan genap adalah 4\n"
          ]
        }
      ]
    },
    {
      "cell_type": "markdown",
      "source": [
        "**Nomor 3**\n",
        "\n",
        "Buatlah program untuk menampilkan kelipatan 3 di antara bilangan tertentu"
      ],
      "metadata": {
        "id": "ZvF3sx9nrgm-"
      }
    },
    {
      "cell_type": "code",
      "source": [
        "print(\"----------------------------------------------\\nBilangan berkelipatan 3 pada interval tertentu\\n----------------------------------------------\")\n",
        "awal=int(input('Masukkan Nilai Awal = '))\n",
        "akhir=int(input('Masukkan Nilai Akhir = '))\n",
        "\n",
        "count=0\n",
        "\n",
        "print('\\nBilangan kelipatan 3 di antara %d dan %d yaitu:' %(awal,akhir))\n",
        "\n",
        "for i in range(awal, akhir+1):\n",
        "    if int(i)%3 == 0:\n",
        "        awal+=1\n",
        "        count=count+1\n",
        "        print(i, end=' ')\n",
        "    else:\n",
        "        akhir+=1\n",
        "    \n",
        "print('\\n\\nBilangan di atas terdapat %d bilangan' %count)"
      ],
      "metadata": {
        "id": "LQguJWtutLmA",
        "colab": {
          "base_uri": "https://localhost:8080/"
        },
        "outputId": "1694df01-eed4-4466-b3f6-1fc2e69127cc"
      },
      "execution_count": 63,
      "outputs": [
        {
          "output_type": "stream",
          "name": "stdout",
          "text": [
            "----------------------------------------------\n",
            "Bilangan berkelipatan 3 pada interval tertentu\n",
            "----------------------------------------------\n",
            "Masukkan Nilai Awal = 15\n",
            "Masukkan Nilai Akhir = 60\n",
            "\n",
            "Bilangan kelipatan 3 di antara 15 dan 60 yaitu:\n",
            "15 18 21 24 27 30 33 36 39 42 45 48 51 54 57 60 \n",
            "\n",
            "Bilangan di atas terdapat 16 bilangan\n"
          ]
        }
      ]
    },
    {
      "cell_type": "markdown",
      "source": [
        "**Nomor 4**\n",
        "\n",
        "Buatlah program untuk menampilkan bentuk bilangan seperti berikut ini: \n",
        "\n",
        "Bilangan: <input suatu bilangan (misal:5)>\n",
        "\n",
        "1\n",
        "\n",
        "12\n",
        "\n",
        "123\n",
        "\n",
        "1234\n",
        "\n",
        "12345"
      ],
      "metadata": {
        "id": "Ky3KCgMa2_yE"
      }
    },
    {
      "cell_type": "code",
      "source": [
        "batas=int(input(\"Masukkan nilai akhir: \"))\n",
        "for i in range(1,batas+1):\n",
        "    for j in range(1,i+1):\n",
        "        print(j, end=\"\")\n",
        "    print()"
      ],
      "metadata": {
        "colab": {
          "base_uri": "https://localhost:8080/"
        },
        "id": "T4bXfA4t2-yQ",
        "outputId": "d15591d8-5bed-42b5-f82a-64d02e315ce7"
      },
      "execution_count": 64,
      "outputs": [
        {
          "output_type": "stream",
          "name": "stdout",
          "text": [
            "Masukkan nilai akhir: 7\n",
            "1\n",
            "12\n",
            "123\n",
            "1234\n",
            "12345\n",
            "123456\n",
            "1234567\n"
          ]
        }
      ]
    },
    {
      "cell_type": "markdown",
      "source": [
        "**Nomor 5**\n",
        "\n",
        "Buatlah program untuk menghitung dan menampilkan bentuk berikut ini:"
      ],
      "metadata": {
        "id": "tM5dN0z98JY1"
      }
    },
    {
      "cell_type": "code",
      "source": [
        "print(\"----------------------------------------------------------------------------------\")\n",
        "print(\"                     PROGRAM UNTUK PENGINPUTAN NILAI\") \n",
        "print(\"----------------------------------------------------------------------------------\")\n",
        "data = []\n",
        "while True:\n",
        "    print(\"\\nSilahkan ketik angka sesuai dengan perlakuan yang ingin anda lakukan pada tabel\")\n",
        "    print(\"1. Menambah data\")\n",
        "    print(\"2. Tampilkan data\")\n",
        "    print(\"3. Exit\")\n",
        "    pilihan=int(input(\"Pilihan: \"))\n",
        "    if pilihan == 1:\n",
        "        print (\"\\nSilahkan memasukkan data dengan urutan dan format sebagai berikut :\")\n",
        "        print (\"Nama Mhs,Nilai Tugas,Nilai Kuis,Nilai UTS,Nilai UAS\\n\")\n",
        "        print (\"Ingat untuk membatasi setiap variabel dengan koma (,)\")\n",
        "        print (\"\\nBobot nilai :\\n-N.Tugas(30%) \\n-N.Kuis(20%) \\n-N.UTS(25%) \\n-N.UAS(25%) \")\n",
        "        data_nilai= input(\"Masukkan data: \\n\")\n",
        "        data_nilai= data_nilai.split(\",\")\n",
        "        data.append(data_nilai)\n",
        "    elif pilihan == 2:\n",
        "        print(\"---------------------------------------------------------------------------------------\")\n",
        "        print(\"No.      Nama Mhs            N.Tugas    N.Kuis    N.UTS    N.UAS    NilaiAkhir\")\n",
        "        print(\"---------------------------------------------------------------------------------------\")\n",
        "        count=0        \n",
        "        for i in (data):\n",
        "            count+=1\n",
        "            NilaiAkhir = (((int(i[1]))*30 + int(i[2])*20 + (int(i[3]))*25 + int(i[4])*25))/100\n",
        "            print (str(count)+\".     \", \"         \".join(i),\"      \", NilaiAkhir)\n",
        "            print ()\n",
        "        print (\"*Data yang ditampilkan sesuai urutan\")\n",
        "    elif pilihan == 3:\n",
        "        print(\"\\nData anda tersimpan di file Documents\")\n",
        "        break\n",
        "    else :\n",
        "        print (\"#Mohon perhatikan petunjuk penggunaan#\")"
      ],
      "metadata": {
        "colab": {
          "base_uri": "https://localhost:8080/"
        },
        "id": "DB7iyIJJm4zH",
        "outputId": "99c3ba23-3ebf-4af9-b5f3-b95c6e34db1a"
      },
      "execution_count": 67,
      "outputs": [
        {
          "output_type": "stream",
          "name": "stdout",
          "text": [
            "----------------------------------------------------------------------------------\n",
            "                     PROGRAM UNTUK PENGINPUTAN NILAI\n",
            "----------------------------------------------------------------------------------\n",
            "\n",
            "Silahkan ketik angka sesuai dengan perlakuan yang ingin anda lakukan pada tabel\n",
            "1. Menambah data\n",
            "2. Tampilkan data\n",
            "3. Exit\n",
            "Pilihan: 1\n",
            "\n",
            "Silahkan memasukkan data dengan urutan dan format sebagai berikut :\n",
            "Nama Mhs,Nilai Tugas,Nilai Kuis,Nilai UTS,Nilai UAS\n",
            "\n",
            "Ingat untuk membatasi setiap variabel dengan koma (,)\n",
            "\n",
            "Bobot nilai :\n",
            "-N.Tugas(30%) \n",
            "-N.Kuis(20%) \n",
            "-N.UTS(25%) \n",
            "-N.UAS(25%) \n",
            "Masukkan data: \n",
            "Rayhan Arman,96,97,98,99\n",
            "\n",
            "Silahkan ketik angka sesuai dengan perlakuan yang ingin anda lakukan pada tabel\n",
            "1. Menambah data\n",
            "2. Tampilkan data\n",
            "3. Exit\n",
            "Pilihan: 1\n",
            "\n",
            "Silahkan memasukkan data dengan urutan dan format sebagai berikut :\n",
            "Nama Mhs,Nilai Tugas,Nilai Kuis,Nilai UTS,Nilai UAS\n",
            "\n",
            "Ingat untuk membatasi setiap variabel dengan koma (,)\n",
            "\n",
            "Bobot nilai :\n",
            "-N.Tugas(30%) \n",
            "-N.Kuis(20%) \n",
            "-N.UTS(25%) \n",
            "-N.UAS(25%) \n",
            "Masukkan data: \n",
            "Naruto,93,95,96,92\n",
            "\n",
            "Silahkan ketik angka sesuai dengan perlakuan yang ingin anda lakukan pada tabel\n",
            "1. Menambah data\n",
            "2. Tampilkan data\n",
            "3. Exit\n",
            "Pilihan: 1\n",
            "\n",
            "Silahkan memasukkan data dengan urutan dan format sebagai berikut :\n",
            "Nama Mhs,Nilai Tugas,Nilai Kuis,Nilai UTS,Nilai UAS\n",
            "\n",
            "Ingat untuk membatasi setiap variabel dengan koma (,)\n",
            "\n",
            "Bobot nilai :\n",
            "-N.Tugas(30%) \n",
            "-N.Kuis(20%) \n",
            "-N.UTS(25%) \n",
            "-N.UAS(25%) \n",
            "Masukkan data: \n",
            "Luffy,95,91,98,93\n",
            "\n",
            "Silahkan ketik angka sesuai dengan perlakuan yang ingin anda lakukan pada tabel\n",
            "1. Menambah data\n",
            "2. Tampilkan data\n",
            "3. Exit\n",
            "Pilihan: 2\n",
            "---------------------------------------------------------------------------------------\n",
            "No.      Nama Mhs            N.Tugas    N.Kuis    N.UTS    N.UAS    NilaiAkhir\n",
            "---------------------------------------------------------------------------------------\n",
            "1.      Rayhan Arman         96         97         98         99        97.45\n",
            "\n",
            "2.      Naruto         93         95         96         92        93.9\n",
            "\n",
            "3.      Luffy         95         91         98         93        94.45\n",
            "\n",
            "*Data yang ditampilkan sesuai urutan\n",
            "\n",
            "Silahkan ketik angka sesuai dengan perlakuan yang ingin anda lakukan pada tabel\n",
            "1. Menambah data\n",
            "2. Tampilkan data\n",
            "3. Exit\n",
            "Pilihan: 3\n",
            "\n",
            "Data anda tersimpan di file Documents\n"
          ]
        }
      ]
    },
    {
      "cell_type": "markdown",
      "source": [
        "**Nomor 6**\n",
        "\n",
        "Penjumlahan 2 buah matriks!"
      ],
      "metadata": {
        "id": "r88P8rqA9Lhi"
      }
    },
    {
      "cell_type": "code",
      "source": [
        "matriks_A=[\n",
        "           [7,5],\n",
        "           [4,2],\n",
        "]\n",
        "\n",
        "matriks_B=[\n",
        "           [4,6],\n",
        "           [8,1],\n",
        "]\n",
        "\n",
        "for A in range(0, len(matriks_A)):\n",
        "  for B in range(0, len(matriks_B[0])):\n",
        "      print (matriks_A[A][B]+matriks_B[A][B], end=\" \"),\n",
        "  print(\"\")\n"
      ],
      "metadata": {
        "colab": {
          "base_uri": "https://localhost:8080/"
        },
        "id": "1JaQFJKj296i",
        "outputId": "d1d8efb9-e879-4d42-f019-256837637104"
      },
      "execution_count": 66,
      "outputs": [
        {
          "output_type": "stream",
          "name": "stdout",
          "text": [
            "11 11 \n",
            "12 3 \n"
          ]
        }
      ]
    }
  ],
  "metadata": {
    "colab": {
      "name": "Tugas Algoritma dan Pemrograman Pekan 13",
      "provenance": [],
      "collapsed_sections": [],
      "authorship_tag": "ABX9TyMJ7KFTM8GJOVjlCv9zAZXN",
      "include_colab_link": true
    },
    "kernelspec": {
      "display_name": "Python 3",
      "name": "python3"
    },
    "language_info": {
      "name": "python"
    }
  },
  "nbformat": 4,
  "nbformat_minor": 0
}